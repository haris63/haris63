{
 "cells": [
  {
   "cell_type": "markdown",
   "id": "9ad0bdaf",
   "metadata": {},
   "source": [
    "# Name: Haris Farooq\n",
    "Email:harisf.de.20@nitj.ac.in\n",
    "Phone:6006264060\n",
    "College:NIT Jalandhar"
   ]
  },
  {
   "cell_type": "raw",
   "id": "1ebbe2c6",
   "metadata": {},
   "source": [
    "Q1. A company decided to give bonus of 5% to employee if his/her year of service is more than 5 years.\n",
    "Ask user for their salary and year of service and print the net bonus amount."
   ]
  },
  {
   "cell_type": "code",
   "execution_count": 3,
   "id": "8228c9df",
   "metadata": {},
   "outputs": [
    {
     "name": "stdout",
     "output_type": "stream",
     "text": [
      "what is your salary: 70000\n",
      "what is your year of service: 6\n",
      "your bonus amount is:  3500.0\n"
     ]
    }
   ],
   "source": [
    "a=int(input(\"what is your salary: \"))\n",
    "b=int(input(\"what is your year of service: \"))\n",
    "if b>5:\n",
    "    net_bonus=0.05*a\n",
    "    print(\"your bonus amount is: \",net_bonus)\n",
    "else:\n",
    "    print(\"you are not eligible for bonus\")"
   ]
  },
  {
   "cell_type": "raw",
   "id": "fcec0b21",
   "metadata": {},
   "source": [
    "Q2. A school has following rules for grading system:\n",
    "    a. Below 25 - F \n",
    "    b. 25 to 45 - E \n",
    "    c. 45 to 50 - D \n",
    "    d. 50 to 60 - C \n",
    "    e. 60 to 80 - B \n",
    "    f. Above 80 - A \n",
    "    Ask user to enter marks and print the corresponding grade."
   ]
  },
  {
   "cell_type": "code",
   "execution_count": 21,
   "id": "66a17de6",
   "metadata": {},
   "outputs": [
    {
     "name": "stdout",
     "output_type": "stream",
     "text": [
      "what are your marks out of 100: 81\n",
      "your grade is: A\n"
     ]
    }
   ],
   "source": [
    "a=int(input(\"what are your marks out of 100: \"))\n",
    "if a<25:\n",
    "    print(\"your grade is: F\")\n",
    "elif a in range(25,45):\n",
    "    print(\"your grade is: E\")\n",
    "elif a in range(45,50):\n",
    "    print(\"your grade is: D\")    \n",
    "elif a in range(50,60):\n",
    "    print(\"your grade is: C\")\n",
    "elif a in range(60,80):\n",
    "    print(\"your grade is: B\")    \n",
    "else:\n",
    "    print(\"your grade is: A\")    \n",
    "    "
   ]
  },
  {
   "cell_type": "raw",
   "id": "9aa7d965",
   "metadata": {},
   "source": [
    "Q3. A student will not be allowed to sit in exam if his/her attendence is less than 75%. \n",
    "Take following input from user\n",
    "Number of classes held \n",
    "Number of classes attended. \n",
    "And print percentage of class attended \n",
    "Is student is allowed to sit in exam or not."
   ]
  },
  {
   "cell_type": "code",
   "execution_count": 17,
   "id": "e49054f7",
   "metadata": {},
   "outputs": [
    {
     "name": "stdout",
     "output_type": "stream",
     "text": [
      "No. of classes held: 40\n",
      "No.of classes attended: 41\n",
      "Error\n"
     ]
    }
   ],
   "source": [
    "a=int(input(\"No. of classes held: \"))\n",
    "b=int(input(\"No.of classes attended: \"))\n",
    "if b>a:\n",
    "    print(\"Error\")\n",
    "else:    \n",
    "    c=(b/a)*100\n",
    "    print(\"Percentage of classes attended:\",c)\n",
    "    if c<75:\n",
    "        print(\"Not eligible to give exams\")\n",
    "    else:\n",
    "        print(\"You are allowed to sit in exams\")"
   ]
  },
  {
   "cell_type": "raw",
   "id": "b9a2cecb",
   "metadata": {},
   "source": [
    "Q4. Ask user to enter age, sex ( M or F ), marital status ( Y or N ) and then using \n",
    "  following rules print their place of service. \n",
    "  if employee is female, then she will work only in urban areas. \n",
    "  if employee is a male and age is in between 20 to 40 then he may work in anywhere \n",
    "  if employee is male and age is in between 40 t0 60 then he will work in urban areas only.\n",
    "  And any other input of age should print \"ERROR\""
   ]
  },
  {
   "cell_type": "code",
   "execution_count": 31,
   "id": "3b1b5238",
   "metadata": {},
   "outputs": [
    {
     "name": "stdout",
     "output_type": "stream",
     "text": [
      "Are you male or female (M/F): f\n",
      "Are you married (Y/N): n\n",
      "What is you age: 15\n",
      "You are not allowed to work\n"
     ]
    }
   ],
   "source": [
    "b=str.lower(input(\"Are you male or female (M/F): \"))\n",
    "c=input(\"Are you married (Y/N): \")\n",
    "a=int(input(\"What is you age: \"))\n",
    "if b==\"f\" and a in range(20,60):\n",
    "    print(\"You have to work in urban areas only\")\n",
    "elif b==\"m\":\n",
    "    if a in range(20,40):\n",
    "        print(\"You may work anywhere\")\n",
    "    if a in range(40,60):\n",
    "        print(\"You have to work in urban areas only\")\n",
    "else:\n",
    "    print(\"You are not allowed to work\")"
   ]
  },
  {
   "cell_type": "raw",
   "id": "be7738b9",
   "metadata": {},
   "source": [
    "Q5. Take 10 integers from keyboard using loop and print their average value on the screen."
   ]
  },
  {
   "cell_type": "code",
   "execution_count": 46,
   "id": "87eb1e06",
   "metadata": {},
   "outputs": [
    {
     "name": "stdout",
     "output_type": "stream",
     "text": [
      "input interger_1: 2\n",
      "input interger_2: 1\n",
      "input interger_3: 3\n",
      "input interger_4: 5\n",
      "input interger_5: 6\n",
      "input interger_6: 4\n",
      "input interger_7: 5\n",
      "input interger_8: 6\n",
      "input interger_9: 8\n",
      "input interger_10: 9\n",
      "average of these ten values is: 4.9\n"
     ]
    }
   ],
   "source": [
    "b=0\n",
    "for i in range(1,11):\n",
    "    a=int(input(f\"input interger_{i}: \"))\n",
    "    b=b+a\n",
    "avg=b/10;\n",
    "print(\"average of these ten values is:\",avg)"
   ]
  },
  {
   "cell_type": "raw",
   "id": "c7aa50ea",
   "metadata": {},
   "source": [
    "Q6. Write a program to calculate factorial of a number."
   ]
  },
  {
   "cell_type": "code",
   "execution_count": 55,
   "id": "251722b4",
   "metadata": {},
   "outputs": [
    {
     "name": "stdout",
     "output_type": "stream",
     "text": [
      "Input number: 1\n",
      "Factorial of 1 is:  1\n"
     ]
    }
   ],
   "source": [
    "\n",
    "number=int(input(\"Input number: \"))\n",
    "if number==0:\n",
    "    facto=1\n",
    "else:\n",
    "    facto=1\n",
    "    for i in range(1,number+1):\n",
    "        facto=facto*i\n",
    "print(f\"Factorial of {number} is: \",facto)   "
   ]
  },
  {
   "cell_type": "raw",
   "id": "1af05cb8",
   "metadata": {},
   "source": [
    "Q7. Take integer inputs from user until he/she presses q ( Ask to press q to quit after every integer input ).\n",
    "\n",
    "Print average and product of all numbers."
   ]
  },
  {
   "cell_type": "code",
   "execution_count": 72,
   "id": "22fa114f",
   "metadata": {},
   "outputs": [
    {
     "name": "stdout",
     "output_type": "stream",
     "text": [
      "input interger_1: 1\n",
      "Press q to quit or p to proceed: p\n",
      "input interger_2: 3\n",
      "Press q to quit or p to proceed: q\n",
      "average of these  values is: 2.0\n",
      "product of these  values is: 3\n"
     ]
    }
   ],
   "source": [
    "b=0\n",
    "d=1\n",
    "i=0\n",
    "c=\"\"\n",
    "while c != \"q\":\n",
    "    i=i+1\n",
    "    a=int(input(f\"input interger_{i}: \"))\n",
    "    b=b+a\n",
    "    d=d*a\n",
    "    c=str.lower(input(\"Press q to quit or p to proceed: \" ))\n",
    "avg=b/i    \n",
    "print(\"average of these  values is:\",avg)\n",
    "print(\"product of these  values is:\",d)"
   ]
  },
  {
   "cell_type": "raw",
   "id": "f8618a71",
   "metadata": {},
   "source": [
    "Q8. A three digit number is called Armstrong number if sum of cube of its digit is equal to number itself.\n",
    "E.g.- 153 is an Armstrong number because (1^3)+(5^3)+(3^3) = 153.\n",
    "Write all Armstrong numbers between 100 to 500."
   ]
  },
  {
   "cell_type": "code",
   "execution_count": 105,
   "id": "6b14687b",
   "metadata": {},
   "outputs": [
    {
     "name": "stdout",
     "output_type": "stream",
     "text": [
      "Armstrong numbers are\n",
      "153\n",
      "370\n",
      "371\n",
      "407\n"
     ]
    }
   ],
   "source": [
    "print(\"Armstrong numbers are\")\n",
    "for i in range(100,500):\n",
    "    a=str(i)\n",
    "    b=int(a[0])\n",
    "    c=int(a[1])\n",
    "    d=int(a[2])\n",
    "    e=b**3+c**3+d**3\n",
    "    if e==i:\n",
    "        print(e)"
   ]
  },
  {
   "cell_type": "raw",
   "id": "5505ad72",
   "metadata": {},
   "source": [
    "Q9. Write a program to find the length of the string \"refrigerator\" without using len function."
   ]
  },
  {
   "cell_type": "code",
   "execution_count": 118,
   "id": "621b991d",
   "metadata": {},
   "outputs": [
    {
     "name": "stdout",
     "output_type": "stream",
     "text": [
      "Length of this word is: 12\n"
     ]
    }
   ],
   "source": [
    "a=0\n",
    "for i in \"refrigerator\":\n",
    "    a=a+1\n",
    "print(\"Length of this word is:\",a)\n",
    "    "
   ]
  },
  {
   "cell_type": "raw",
   "id": "217d529b",
   "metadata": {},
   "source": [
    "Q10. Write a program that takes your full name as input and displays the abbreviations of the first and middle names except \n",
    "the last name which is displayed as it is. For example, if your name is Robert Brett Roser, \n",
    "then the output should be R.B.Roser."
   ]
  },
  {
   "cell_type": "code",
   "execution_count": 162,
   "id": "0369a749",
   "metadata": {},
   "outputs": [
    {
     "name": "stdout",
     "output_type": "stream",
     "text": [
      "First name: haris\n",
      "Middle name: faroq\n",
      "Last name: sheikh\n",
      "My abbreviated name is H.F.SHEIKH \n"
     ]
    }
   ],
   "source": [
    "a=str.upper(input(\"First name: \"))\n",
    "b=str.upper(input(\"Middle name: \"))\n",
    "c=str.upper(input(\"Last name: \"))\n",
    "print(f\"My abbreviated name is {a[0]}.{b[0]}.{c} \")"
   ]
  },
  {
   "cell_type": "code",
   "execution_count": null,
   "id": "c4d4d997",
   "metadata": {},
   "outputs": [],
   "source": []
  }
 ],
 "metadata": {
  "kernelspec": {
   "display_name": "Python 3",
   "language": "python",
   "name": "python3"
  },
  "language_info": {
   "codemirror_mode": {
    "name": "ipython",
    "version": 3
   },
   "file_extension": ".py",
   "mimetype": "text/x-python",
   "name": "python",
   "nbconvert_exporter": "python",
   "pygments_lexer": "ipython3",
   "version": "3.8.8"
  }
 },
 "nbformat": 4,
 "nbformat_minor": 5
}
